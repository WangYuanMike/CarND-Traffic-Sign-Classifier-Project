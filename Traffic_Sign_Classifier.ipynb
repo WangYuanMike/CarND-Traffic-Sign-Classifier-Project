{
 "cells": [
  {
   "cell_type": "markdown",
   "metadata": {},
   "source": [
    "# Self-Driving Car Engineer Nanodegree\n",
    "\n",
    "## Deep Learning\n",
    "\n",
    "## Project: Build a Traffic Sign Recognition Classifier\n",
    "\n",
    "In this notebook, a template is provided for you to implement your functionality in stages, which is required to successfully complete this project. If additional code is required that cannot be included in the notebook, be sure that the Python code is successfully imported and included in your submission if necessary. \n",
    "\n",
    "> **Note**: Once you have completed all of the code implementations, you need to finalize your work by exporting the iPython Notebook as an HTML document. Before exporting the notebook to html, all of the code cells need to have been run so that reviewers can see the final implementation and output. You can then export the notebook by using the menu above and navigating to  \\n\",\n",
    "    \"**File -> Download as -> HTML (.html)**. Include the finished document along with this notebook as your submission. \n",
    "\n",
    "In addition to implementing code, there is a writeup to complete. The writeup should be completed in a separate file, which can be either a markdown file or a pdf document. There is a [write up template](https://github.com/udacity/CarND-Traffic-Sign-Classifier-Project/blob/master/writeup_template.md) that can be used to guide the writing process. Completing the code template and writeup template will cover all of the [rubric points](https://review.udacity.com/#!/rubrics/481/view) for this project.\n",
    "\n",
    "The [rubric](https://review.udacity.com/#!/rubrics/481/view) contains \"Stand Out Suggestions\" for enhancing the project beyond the minimum requirements. The stand out suggestions are optional. If you decide to pursue the \"stand out suggestions\", you can include the code in this Ipython notebook and also discuss the results in the writeup file.\n",
    "\n",
    "\n",
    ">**Note:** Code and Markdown cells can be executed using the **Shift + Enter** keyboard shortcut. In addition, Markdown cells can be edited by typically double-clicking the cell to enter edit mode."
   ]
  },
  {
   "cell_type": "markdown",
   "metadata": {},
   "source": [
    "---\n",
    "## Step 0: Load The Data"
   ]
  },
  {
   "cell_type": "code",
   "execution_count": null,
   "metadata": {},
   "outputs": [],
   "source": [
    "# Load pickled data\n",
    "import pickle\n",
    "\n",
    "# TODO: Fill this in based on where you saved the training and testing data\n",
    "\n",
    "training_file = 'traffic-signs-data/train.p'\n",
    "validation_file='traffic-signs-data/valid.p'\n",
    "testing_file = 'traffic-signs-data/test.p'\n",
    "\n",
    "with open(training_file, mode='rb') as f:\n",
    "    train = pickle.load(f)\n",
    "with open(validation_file, mode='rb') as f:\n",
    "    validation = pickle.load(f)\n",
    "with open(testing_file, mode='rb') as f:\n",
    "    test = pickle.load(f)\n",
    "    \n",
    "X_train, y_train = train['features'], train['labels']\n",
    "X_val, y_val = validation['features'], validation['labels']\n",
    "X_test, y_test = test['features'], test['labels']"
   ]
  },
  {
   "cell_type": "markdown",
   "metadata": {},
   "source": [
    "---\n",
    "\n",
    "## Step 1: Dataset Summary & Exploration\n",
    "\n",
    "The pickled data is a dictionary with 4 key/value pairs:\n",
    "\n",
    "- `'features'` is a 4D array containing raw pixel data of the traffic sign images, (num examples, width, height, channels).\n",
    "- `'labels'` is a 1D array containing the label/class id of the traffic sign. The file `signnames.csv` contains id -> name mappings for each id.\n",
    "- `'sizes'` is a list containing tuples, (width, height) representing the original width and height the image.\n",
    "- `'coords'` is a list containing tuples, (x1, y1, x2, y2) representing coordinates of a bounding box around the sign in the image. **THESE COORDINATES ASSUME THE ORIGINAL IMAGE. THE PICKLED DATA CONTAINS RESIZED VERSIONS (32 by 32) OF THESE IMAGES**\n",
    "\n",
    "Complete the basic data summary below. Use python, numpy and/or pandas methods to calculate the data summary rather than hard coding the results. For example, the [pandas shape method](http://pandas.pydata.org/pandas-docs/stable/generated/pandas.DataFrame.shape.html) might be useful for calculating some of the summary results. "
   ]
  },
  {
   "cell_type": "markdown",
   "metadata": {},
   "source": [
    "### Provide a Basic Summary of the Data Set Using Python, Numpy and/or Pandas"
   ]
  },
  {
   "cell_type": "code",
   "execution_count": null,
   "metadata": {},
   "outputs": [],
   "source": [
    "### Replace each question mark with the appropriate value. \n",
    "### Use python, pandas or numpy methods rather than hard coding the results\n",
    "\n",
    "import numpy as np\n",
    "\n",
    "# TODO: Number of training examples\n",
    "n_train = X_train.shape[0]\n",
    "\n",
    "# TODO: Number of validation examples\n",
    "n_val = X_val.shape[0]\n",
    "\n",
    "# TODO: Number of testing examples.\n",
    "n_test = X_test.shape[0]\n",
    "\n",
    "# TODO: What's the shape of an traffic sign image?\n",
    "image_shape = (X_train.shape[1], X_train.shape[2], X_train.shape[3])\n",
    "\n",
    "# TODO: How many unique classes/labels there are in the dataset.\n",
    "n_classes = len(np.unique(y_val))\n",
    "\n",
    "print(\"Number of training examples =\", n_train)\n",
    "print(\"Number of validation examples =\", n_val)\n",
    "print(\"Number of testing examples =\", n_test)\n",
    "print(\"Image data shape =\", image_shape)\n",
    "print(\"Number of classes =\", n_classes)"
   ]
  },
  {
   "cell_type": "markdown",
   "metadata": {},
   "source": [
    "### Include an exploratory visualization of the dataset"
   ]
  },
  {
   "cell_type": "markdown",
   "metadata": {},
   "source": [
    "Visualize the German Traffic Signs Dataset using the pickled file(s). This is open ended, suggestions include: plotting traffic sign images, plotting the count of each sign, etc. \n",
    "\n",
    "The [Matplotlib](http://matplotlib.org/) [examples](http://matplotlib.org/examples/index.html) and [gallery](http://matplotlib.org/gallery.html) pages are a great resource for doing visualizations in Python.\n",
    "\n",
    "**NOTE:** It's recommended you start with something simple first. If you wish to do more, come back to it after you've completed the rest of the sections. It can be interesting to look at the distribution of classes in the training, validation and test set. Is the distribution the same? Are there more examples of some classes than others?"
   ]
  },
  {
   "cell_type": "markdown",
   "metadata": {},
   "source": [
    "### Image examples in training set"
   ]
  },
  {
   "cell_type": "code",
   "execution_count": null,
   "metadata": {},
   "outputs": [],
   "source": [
    "### Data exploration visualization code goes here.\n",
    "### Feel free to use as many code cells as needed.\n",
    "import matplotlib.pyplot as plt\n",
    "# Visualizations will be shown in the notebook.\n",
    "%matplotlib inline\n",
    "\n",
    "# Show some traffic sign images in training set\n",
    "img_index = np.random.randint(n_train, size=10)\n",
    "f, axarr = plt.subplots(2, 5, figsize=(15, 6))\n",
    "for i in range(2):\n",
    "    for j in range(5):\n",
    "        axarr[i, j].imshow(X_train[img_index[i*5+j]])\n",
    "        axarr[i, j].set_title('training sample ' + str(img_index[i*5+j]))\n",
    "        axarr[i, j].axis('off')"
   ]
  },
  {
   "cell_type": "markdown",
   "metadata": {},
   "source": [
    "### Image examples in validation set"
   ]
  },
  {
   "cell_type": "code",
   "execution_count": null,
   "metadata": {},
   "outputs": [],
   "source": [
    "# Show some traffic sign images in validation set\n",
    "img_index = np.random.randint(n_val, size=10)\n",
    "f, axarr = plt.subplots(2, 5, figsize=(15, 6))\n",
    "for i in range(2):\n",
    "    for j in range(5):\n",
    "        axarr[i, j].imshow(X_val[img_index[i*5+j]])\n",
    "        axarr[i, j].set_title('validation sample ' + str(img_index[i*5+j]))\n",
    "        axarr[i, j].axis('off')"
   ]
  },
  {
   "cell_type": "markdown",
   "metadata": {},
   "source": [
    "### Image examples in test set"
   ]
  },
  {
   "cell_type": "code",
   "execution_count": null,
   "metadata": {},
   "outputs": [],
   "source": [
    "# Show some traffic sign images in test set\n",
    "img_index = np.random.randint(n_test, size=10)\n",
    "f, axarr = plt.subplots(2, 5, figsize=(15, 6))\n",
    "for i in range(2):\n",
    "    for j in range(5):\n",
    "        axarr[i, j].imshow(X_test[img_index[i*5+j]])\n",
    "        axarr[i, j].set_title('test sample ' + str(img_index[i*5+j]))\n",
    "        axarr[i, j].axis('off')"
   ]
  },
  {
   "cell_type": "markdown",
   "metadata": {},
   "source": [
    "### Label class distribution in Training, Validation, and Test sets"
   ]
  },
  {
   "cell_type": "code",
   "execution_count": null,
   "metadata": {},
   "outputs": [],
   "source": [
    "# Show label class distribution of traffic sign image in training set\n",
    "x = np.unique(y_train)\n",
    "y = np.bincount(y_train)\n",
    "\n",
    "fig, ax = plt.subplots()\n",
    "ax.plot(x, y)\n",
    "\n",
    "ax.set(xlabel='label class', ylabel='number of image samples',\n",
    "       title='training set label class distribution')\n",
    "ax.grid()\n",
    "\n",
    "\n",
    "# Show label class distribution of traffic sign image in validation set\n",
    "x = np.unique(y_val)\n",
    "y = np.bincount(y_val)\n",
    "\n",
    "fig, ax = plt.subplots()\n",
    "ax.plot(x, y)\n",
    "\n",
    "ax.set(xlabel='label class', ylabel='number of image samples',\n",
    "       title='validation set label class distribution')\n",
    "ax.grid()\n",
    "\n",
    "# Show label class distribution of traffic sign image in test set\n",
    "x = np.unique(y_test)\n",
    "y = np.bincount(y_test)\n",
    "\n",
    "fig, ax = plt.subplots()\n",
    "ax.plot(x, y)\n",
    "\n",
    "ax.set(xlabel='label class', ylabel='number of image samples',\n",
    "       title='test set label class distribution')\n",
    "ax.grid()\n",
    "\n",
    "plt.show()"
   ]
  },
  {
   "cell_type": "markdown",
   "metadata": {},
   "source": [
    "\n",
    "## Step 2: Design and Test a Model Architecture\n",
    "\n",
    "Design and implement a deep learning model that learns to recognize traffic signs. Train and test your model on the [German Traffic Sign Dataset](http://benchmark.ini.rub.de/?section=gtsrb&subsection=dataset).\n",
    "\n",
    "The LeNet-5 implementation shown in the [classroom](https://classroom.udacity.com/nanodegrees/nd013/parts/fbf77062-5703-404e-b60c-95b78b2f3f9e/modules/6df7ae49-c61c-4bb2-a23e-6527e69209ec/lessons/601ae704-1035-4287-8b11-e2c2716217ad/concepts/d4aca031-508f-4e0b-b493-e7b706120f81) at the end of the CNN lesson is a solid starting point. You'll have to change the number of classes and possibly the preprocessing, but aside from that it's plug and play! \n",
    "\n",
    "With the LeNet-5 solution from the lecture, you should expect a validation set accuracy of about 0.89. To meet specifications, the validation set accuracy will need to be at least 0.93. It is possible to get an even higher accuracy, but 0.93 is the minimum for a successful project submission. \n",
    "\n",
    "There are various aspects to consider when thinking about this problem:\n",
    "\n",
    "- Neural network architecture (is the network over or underfitting?)\n",
    "- Play around preprocessing techniques (normalization, rgb to grayscale, etc)\n",
    "- Number of examples per label (some have more than others).\n",
    "- Generate fake data.\n",
    "\n",
    "Here is an example of a [published baseline model on this problem](http://yann.lecun.com/exdb/publis/pdf/sermanet-ijcnn-11.pdf). It's not required to be familiar with the approach used in the paper but, it's good practice to try to read papers like these."
   ]
  },
  {
   "cell_type": "markdown",
   "metadata": {},
   "source": [
    "### Pre-process the Data Set (normalization, grayscale, etc.)"
   ]
  },
  {
   "cell_type": "markdown",
   "metadata": {},
   "source": [
    "Minimally, the image data should be normalized so that the data has mean zero and equal variance. For image data, `(pixel - 128)/ 128` is a quick way to approximately normalize the data and can be used in this project. \n",
    "\n",
    "Other pre-processing steps are optional. You can try different techniques to see if it improves performance. \n",
    "\n",
    "Use the code cell (or multiple code cells, if necessary) to implement the first step of your project."
   ]
  },
  {
   "cell_type": "code",
   "execution_count": null,
   "metadata": {},
   "outputs": [],
   "source": [
    "### Preprocess the data here. It is required to normalize the data. Other preprocessing steps could include \n",
    "### converting to grayscale, etc.\n",
    "### Feel free to use as many code cells as needed.\n",
    "\n",
    "import tensorflow as tf\n",
    "\n",
    "print('tensorflow version = {}'.format(tf.__version__))\n",
    "\n",
    "# Normalize image samples\n",
    "def normalize_image(image_set, image_mean=128, num_channel=3):\n",
    "    return (image_set - np.repeat(image_mean, num_channel)) / image_mean\n",
    "\n",
    "X_train = normalize_image(X_train)"
   ]
  },
  {
   "cell_type": "markdown",
   "metadata": {},
   "source": [
    "### LeNet Model Architecture\n",
    "\n",
    "* Input [32x32x3]\n",
    "* 6 Filters, 5x5, Stride 1, ReLU [28x28x6]\n",
    "* Batch Normalization\n",
    "* Max Pool 2x2, Stride 2 [14x14x6]\n",
    "* 16 Filters, 5x5, Stride 1, ReLU [10x10x16]\n",
    "* Batch Normalization\n",
    "* Max Pool 2x2, Stride 2 [5x5x16]\n",
    "* Flatten [400]\n",
    "* Fully Connected size 120, ReLU [120]\n",
    "* Fully Connected size [n_classes = 43]\n"
   ]
  },
  {
   "cell_type": "code",
   "execution_count": null,
   "metadata": {},
   "outputs": [],
   "source": [
    "def LeNet(x, regularizer, is_training):\n",
    "    \"\"\"\n",
    "    Compute LeNet class score for a batch of input images.\n",
    "    \n",
    "    Inputs:\n",
    "    - x: placeholder of input images, shape [batch_size, 32, 32, 3]\n",
    "    - regularizer: L2 regularizer operator\n",
    "    - is_training: placeholder, indicating batch normalization is in training mode (True) or inference mode (False)\n",
    "    \n",
    "    Returns:\n",
    "    TensorFlow Tensor with shape [batch_size, n_classes], \n",
    "    containing the class score for each input image.\n",
    "    \"\"\"\n",
    "    global n_classes\n",
    "    \n",
    "    with tf.variable_scope(\"LeNet\"):\n",
    "        # Use xavier initializer as initializer for all weight variables\n",
    "        init = tf.contrib.layers.xavier_initializer(uniform=True)\n",
    "\n",
    "        # CONV -> BN -> POOL\n",
    "        a = tf.layers.conv2d(inputs=x, filters=6, kernel_size=5, padding='VALID', activation=tf.nn.relu, \n",
    "                             kernel_initializer=init, kernel_regularizer=regularizer)\n",
    "        a = tf.layers.batch_normalization(inputs=a, training=is_training)\n",
    "        a = tf.layers.max_pooling2d(a, pool_size=2, strides=2, padding='SAME')\n",
    "        \n",
    "        # CONV -> BN -> POOL\n",
    "        a = tf.layers.conv2d(inputs=a, filters=16, kernel_size=5, padding='VALID', activation=tf.nn.relu, \n",
    "                             kernel_initializer=init, kernel_regularizer=regularizer)\n",
    "        a = tf.layers.batch_normalization(inputs=a, training=is_training)\n",
    "        a = tf.layers.max_pooling2d(a, pool_size=2, strides=2, padding='SAME')\n",
    "        \n",
    "        # FC -> FC -> Logits\n",
    "        a = tf.contrib.layers.flatten(a)\n",
    "        a = tf.layers.dense(a, 120, activation=tf.nn.relu, kernel_initializer=init, kernel_regularizer=regularizer)\n",
    "        logits = tf.layers.dense(a, n_classes, kernel_initializer=init, kernel_regularizer=regularizer)\n",
    "    \n",
    "        return logits"
   ]
  },
  {
   "cell_type": "markdown",
   "metadata": {},
   "source": [
    "### Model evaluation and training"
   ]
  },
  {
   "cell_type": "code",
   "execution_count": null,
   "metadata": {},
   "outputs": [],
   "source": [
    "from sklearn.utils import shuffle\n",
    "\n",
    "def evaluate(X_data, y_data, accuracy, batch_size=64):\n",
    "    '''\n",
    "    Evaluate predict accuracy on a data set, normally validation set\n",
    "    \n",
    "    Input:\n",
    "    - X_data: data set for placeholder x\n",
    "    - y_data: label set for placeholder y\n",
    "    - accuracy: operator of prediction accuracy\n",
    "    - batch_size: mini-batch size for evaluation\n",
    "    \n",
    "    Return:\n",
    "    - accuracy: total prediction accuracy on this data set\n",
    "    '''\n",
    "    num_examples = len(X_data)\n",
    "    total_accuracy = 0\n",
    "    sess = tf.get_default_session()\n",
    "    for offset in range(0, num_examples, batch_size):\n",
    "        batch_x, batch_y = X_data[offset:offset+batch_size], y_data[offset:offset+batch_size]\n",
    "        batch_accuracy = sess.run(accuracy, feed_dict={x: batch_x, y: batch_y, is_training: False})\n",
    "        total_accuracy += (batch_accuracy * len(batch_x))\n",
    "    return total_accuracy / num_examples\n",
    "\n",
    "\n",
    "def train(sess, loss, accuracy, train_step, X_train, y_train, X_val, y_val,\n",
    "          batch_size=64, num_epoch=10, print_every=100, verbose=False):\n",
    "    '''\n",
    "    Run mini-batch training, show training loss, training accuracy, and validation accuracy\n",
    "\n",
    "    Input:\n",
    "    - sess: session to run model training\n",
    "    - loss: operator of model loss\n",
    "    - accuracy: operator of prediction accuracy\n",
    "    - train_step: operator of training step to minimize loss\n",
    "    - X_train: training set data for placeholder x\n",
    "    - y_train: training set label for place holder y\n",
    "    - X_val: validation set data for placeholder x\n",
    "    - y_val: validation set data for placeholder y\n",
    "    - batch_size: mini-batch size of training data\n",
    "    - num_epoch: number of training epochs\n",
    "    - print_every: number of iterations to print training loss and accuracy\n",
    "    - verbose: print detailed info when it set to True\n",
    "\n",
    "    Returns:\n",
    "    - train_accuracy: prediction accuracy on last epoch of training\n",
    "    - validation_accuracy: prediction accuracy on validation set\n",
    "    '''    \n",
    "    sess.run(tf.global_variables_initializer())\n",
    "    num_examples = len(X_train)\n",
    "    variables = [loss, accuracy, train_step]    \n",
    "        \n",
    "    if verbose:\n",
    "        print(\"\")\n",
    "        print(\"Training...\")\n",
    "    \n",
    "    for i in range(num_epoch):\n",
    "        epoch_correction = 0.0\n",
    "        X_train, y_train = shuffle(X_train, y_train)\n",
    "        \n",
    "        # Train model with mini batch of training data\n",
    "        for offset in range(0, num_examples, batch_size):\n",
    "            end = offset + batch_size\n",
    "            batch_x, batch_y = X_train[offset:end], y_train[offset:end]\n",
    "            batch_loss, batch_accuracy, _ = sess.run(variables, \n",
    "                                                     feed_dict={x: batch_x, y: batch_y, is_training:True})\n",
    "        \n",
    "            # Aggreate batch correct predictions to epoch level\n",
    "            epoch_correction += batch_accuracy * batch_size\n",
    "        \n",
    "            # Print loss and batch training accuracy after every \"print_every\" iterations\n",
    "            iter_counter = offset // batch_size\n",
    "            if verbose and iter_counter % print_every == 0:\n",
    "                print(\"iteration:{}, batch loss={:.3f}, batch accuracy={:.3f}\".\n",
    "                      format(iter_counter, batch_loss, batch_accuracy))\n",
    "        \n",
    "        # Print epoch training accuracy and epoch validation accuracy\n",
    "        train_accuracy = epoch_correction / num_examples\n",
    "        validation_accuracy = evaluate(X_val, y_val, accuracy, batch_size)\n",
    "        if verbose:\n",
    "            print(\"EPOCH:{}, train_accuracy={:.3f}, validation accuracy={:.3f}\".\n",
    "                  format(i+1, train_accuracy, validation_accuracy))\n",
    "\n",
    "    return train_accuracy, validation_accuracy"
   ]
  },
  {
   "cell_type": "markdown",
   "metadata": {},
   "source": [
    "### Train, Validate and Test the Model"
   ]
  },
  {
   "cell_type": "markdown",
   "metadata": {},
   "source": [
    "A validation set can be used to assess how well the model is performing. A low accuracy on the training and validation\n",
    "sets imply underfitting. A high accuracy on the training set but low accuracy on the validation set implies overfitting."
   ]
  },
  {
   "cell_type": "markdown",
   "metadata": {},
   "source": [
    "### Search for best hyperparameter combination for each model type"
   ]
  },
  {
   "cell_type": "code",
   "execution_count": null,
   "metadata": {},
   "outputs": [],
   "source": [
    "model = 'LeNet'\n",
    "\n",
    "# Hyperparameters candidate values\n",
    "learning_rates = 10 ** np.random.uniform(-3, -2, 10)\n",
    "regularization_scales = 10 ** np.random.uniform(-4, -2, 30)\n",
    "batch_sizes = [64]\n",
    "num_epoch = 2\n",
    "\n",
    "# Dictionary to store accuracy result of hyperparameter combinations\n",
    "hyperparameter_dict = {}\n",
    "\n",
    "# Search for best hyperparameter combination\n",
    "print('model={}'.format(model))\n",
    "\n",
    "iteration_counter = 0\n",
    "for lr in learning_rates:\n",
    "    for rs in regularization_scales:\n",
    "        for bs in batch_sizes:\n",
    "            # Reset tf graph for each iteration \n",
    "            tf.reset_default_graph()\n",
    "\n",
    "            # Define place holders for images, labels, and batch normalization mode indicator\n",
    "            x = tf.placeholder(tf.float32, (None, 32, 32, 3))\n",
    "            y = tf.placeholder(tf.int32, (None))\n",
    "            is_training = tf.placeholder(tf.bool)\n",
    "\n",
    "            # Compute logits with certain regularization scale\n",
    "            regularizer = tf.contrib.layers.l2_regularizer(rs)\n",
    "            logits = LeNet(x, regularizer, is_training)\n",
    "\n",
    "            # Define accuracy\n",
    "            one_hot_y = tf.one_hot(y, n_classes)        \n",
    "            correct_prediction = tf.equal(tf.argmax(logits, 1), tf.argmax(one_hot_y, 1))\n",
    "            accuracy = tf.reduce_mean(tf.cast(correct_prediction, tf.float32))\n",
    "\n",
    "            # Define loss and add L2 regularization to loss\n",
    "            cross_entropy = tf.nn.softmax_cross_entropy_with_logits(labels=one_hot_y, logits=logits)\n",
    "            loss = tf.reduce_mean(cross_entropy)\n",
    "            loss += tf.reduce_sum(tf.get_collection(tf.GraphKeys.REGULARIZATION_LOSSES))\n",
    "\n",
    "            # Define optimizer, batch normalization update ops, and train step\n",
    "            optimizer = tf.train.AdamOptimizer(learning_rate=lr)\n",
    "            extra_update_ops = tf.get_collection(tf.GraphKeys.UPDATE_OPS)\n",
    "            with tf.control_dependencies(extra_update_ops):\n",
    "                train_step = optimizer.minimize(loss)\n",
    "\n",
    "            # Run training and check training accuracy and validation accuracy\n",
    "            with tf.Session() as sess:\n",
    "                iteration_counter += 1\n",
    "                print(\"\")\n",
    "                print('Hyperparameter combination {}'.format(iteration_counter))\n",
    "                train_accuracy, val_accuracy = train(sess, loss, accuracy, train_step, X_train, y_train, X_val, y_val,\n",
    "                                                     batch_size=bs, num_epoch=num_epoch, print_every=100, verbose=True)\n",
    "                print('learning rate={:.2e}, regularization scale={:.2e}, batch size={},'\n",
    "                      'train accuracy={:.3f}, validation accuracy={:.3f}'\n",
    "                      .format(lr, rs, bs, train_accuracy, val_accuracy))\n",
    "                hyperparameter_dict[(lr, rs, bs)] = (train_accuracy, val_accuracy)\n",
    "            \n",
    "# Sort and print result list \n",
    "print(\"\")\n",
    "print(\"\")\n",
    "print('Result list (sorted by validation accuracy)')\n",
    "hyperparameter_dict = sorted(hyperparameter_dict.items(), key=lambda x:x[1][1])\n",
    "for h in hyperparameter_dict:\n",
    "    print('learning rate={:.2e}, regularization scale={:.2e}, batch size={},'\n",
    "          'train accuracy={:.3f}, validation accuracy={:.3f}'\n",
    "          .format(h[0][0], h[0][1], h[0][2], h[1][0], h[1][1]))\n",
    "            "
   ]
  },
  {
   "cell_type": "markdown",
   "metadata": {},
   "source": [
    "---\n",
    "\n",
    "## Step 3: Test a Model on New Images\n",
    "\n",
    "To give yourself more insight into how your model is working, download at least five pictures of German traffic signs from the web and use your model to predict the traffic sign type.\n",
    "\n",
    "You may find `signnames.csv` useful as it contains mappings from the class id (integer) to the actual sign name."
   ]
  },
  {
   "cell_type": "markdown",
   "metadata": {},
   "source": [
    "### Load and Output the Images"
   ]
  },
  {
   "cell_type": "code",
   "execution_count": null,
   "metadata": {},
   "outputs": [],
   "source": [
    "### Load the images and plot them here.\n",
    "### Feel free to use as many code cells as needed."
   ]
  },
  {
   "cell_type": "markdown",
   "metadata": {},
   "source": [
    "### Predict the Sign Type for Each Image"
   ]
  },
  {
   "cell_type": "code",
   "execution_count": null,
   "metadata": {},
   "outputs": [],
   "source": [
    "### Run the predictions here and use the model to output the prediction for each image.\n",
    "### Make sure to pre-process the images with the same pre-processing pipeline used earlier.\n",
    "### Feel free to use as many code cells as needed."
   ]
  },
  {
   "cell_type": "markdown",
   "metadata": {},
   "source": [
    "### Analyze Performance"
   ]
  },
  {
   "cell_type": "code",
   "execution_count": null,
   "metadata": {},
   "outputs": [],
   "source": [
    "### Calculate the accuracy for these 5 new images. \n",
    "### For example, if the model predicted 1 out of 5 signs correctly, it's 20% accurate on these new images."
   ]
  },
  {
   "cell_type": "markdown",
   "metadata": {},
   "source": [
    "### Output Top 5 Softmax Probabilities For Each Image Found on the Web"
   ]
  },
  {
   "cell_type": "markdown",
   "metadata": {},
   "source": [
    "For each of the new images, print out the model's softmax probabilities to show the **certainty** of the model's predictions (limit the output to the top 5 probabilities for each image). [`tf.nn.top_k`](https://www.tensorflow.org/versions/r0.12/api_docs/python/nn.html#top_k) could prove helpful here. \n",
    "\n",
    "The example below demonstrates how tf.nn.top_k can be used to find the top k predictions for each image.\n",
    "\n",
    "`tf.nn.top_k` will return the values and indices (class ids) of the top k predictions. So if k=3, for each sign, it'll return the 3 largest probabilities (out of a possible 43) and the correspoding class ids.\n",
    "\n",
    "Take this numpy array as an example. The values in the array represent predictions. The array contains softmax probabilities for five candidate images with six possible classes. `tf.nn.top_k` is used to choose the three classes with the highest probability:\n",
    "\n",
    "```\n",
    "# (5, 6) array\n",
    "a = np.array([[ 0.24879643,  0.07032244,  0.12641572,  0.34763842,  0.07893497,\n",
    "         0.12789202],\n",
    "       [ 0.28086119,  0.27569815,  0.08594638,  0.0178669 ,  0.18063401,\n",
    "         0.15899337],\n",
    "       [ 0.26076848,  0.23664738,  0.08020603,  0.07001922,  0.1134371 ,\n",
    "         0.23892179],\n",
    "       [ 0.11943333,  0.29198961,  0.02605103,  0.26234032,  0.1351348 ,\n",
    "         0.16505091],\n",
    "       [ 0.09561176,  0.34396535,  0.0643941 ,  0.16240774,  0.24206137,\n",
    "         0.09155967]])\n",
    "```\n",
    "\n",
    "Running it through `sess.run(tf.nn.top_k(tf.constant(a), k=3))` produces:\n",
    "\n",
    "```\n",
    "TopKV2(values=array([[ 0.34763842,  0.24879643,  0.12789202],\n",
    "       [ 0.28086119,  0.27569815,  0.18063401],\n",
    "       [ 0.26076848,  0.23892179,  0.23664738],\n",
    "       [ 0.29198961,  0.26234032,  0.16505091],\n",
    "       [ 0.34396535,  0.24206137,  0.16240774]]), indices=array([[3, 0, 5],\n",
    "       [0, 1, 4],\n",
    "       [0, 5, 1],\n",
    "       [1, 3, 5],\n",
    "       [1, 4, 3]], dtype=int32))\n",
    "```\n",
    "\n",
    "Looking just at the first row we get `[ 0.34763842,  0.24879643,  0.12789202]`, you can confirm these are the 3 largest probabilities in `a`. You'll also notice `[3, 0, 5]` are the corresponding indices."
   ]
  },
  {
   "cell_type": "code",
   "execution_count": null,
   "metadata": {},
   "outputs": [],
   "source": [
    "### Print out the top five softmax probabilities for the predictions on the German traffic sign images found on the web. \n",
    "### Feel free to use as many code cells as needed."
   ]
  },
  {
   "cell_type": "markdown",
   "metadata": {},
   "source": [
    "### Project Writeup\n",
    "\n",
    "Once you have completed the code implementation, document your results in a project writeup using this [template](https://github.com/udacity/CarND-Traffic-Sign-Classifier-Project/blob/master/writeup_template.md) as a guide. The writeup can be in a markdown or pdf file. "
   ]
  },
  {
   "cell_type": "markdown",
   "metadata": {},
   "source": [
    "> **Note**: Once you have completed all of the code implementations and successfully answered each question above, you may finalize your work by exporting the iPython Notebook as an HTML document. You can do this by using the menu above and navigating to  \\n\",\n",
    "    \"**File -> Download as -> HTML (.html)**. Include the finished document along with this notebook as your submission."
   ]
  },
  {
   "cell_type": "markdown",
   "metadata": {},
   "source": [
    "---\n",
    "\n",
    "## Step 4 (Optional): Visualize the Neural Network's State with Test Images\n",
    "\n",
    " This Section is not required to complete but acts as an additional excersise for understaning the output of a neural network's weights. While neural networks can be a great learning device they are often referred to as a black box. We can understand what the weights of a neural network look like better by plotting their feature maps. After successfully training your neural network you can see what it's feature maps look like by plotting the output of the network's weight layers in response to a test stimuli image. From these plotted feature maps, it's possible to see what characteristics of an image the network finds interesting. For a sign, maybe the inner network feature maps react with high activation to the sign's boundary outline or to the contrast in the sign's painted symbol.\n",
    "\n",
    " Provided for you below is the function code that allows you to get the visualization output of any tensorflow weight layer you want. The inputs to the function should be a stimuli image, one used during training or a new one you provided, and then the tensorflow variable name that represents the layer's state during the training process, for instance if you wanted to see what the [LeNet lab's](https://classroom.udacity.com/nanodegrees/nd013/parts/fbf77062-5703-404e-b60c-95b78b2f3f9e/modules/6df7ae49-c61c-4bb2-a23e-6527e69209ec/lessons/601ae704-1035-4287-8b11-e2c2716217ad/concepts/d4aca031-508f-4e0b-b493-e7b706120f81) feature maps looked like for it's second convolutional layer you could enter conv2 as the tf_activation variable.\n",
    "\n",
    "For an example of what feature map outputs look like, check out NVIDIA's results in their paper [End-to-End Deep Learning for Self-Driving Cars](https://devblogs.nvidia.com/parallelforall/deep-learning-self-driving-cars/) in the section Visualization of internal CNN State. NVIDIA was able to show that their network's inner weights had high activations to road boundary lines by comparing feature maps from an image with a clear path to one without. Try experimenting with a similar test to show that your trained network's weights are looking for interesting features, whether it's looking at differences in feature maps from images with or without a sign, or even what feature maps look like in a trained network vs a completely untrained one on the same sign image.\n",
    "\n",
    "<figure>\n",
    " <img src=\"visualize_cnn.png\" width=\"380\" alt=\"Combined Image\" />\n",
    " <figcaption>\n",
    " <p></p> \n",
    " <p style=\"text-align: center;\"> Your output should look something like this (above)</p> \n",
    " </figcaption>\n",
    "</figure>\n",
    " <p></p> \n"
   ]
  },
  {
   "cell_type": "code",
   "execution_count": null,
   "metadata": {},
   "outputs": [],
   "source": [
    "### Visualize your network's feature maps here.\n",
    "### Feel free to use as many code cells as needed.\n",
    "\n",
    "# image_input: the test image being fed into the network to produce the feature maps\n",
    "# tf_activation: should be a tf variable name used during your training procedure that represents the calculated state of a specific weight layer\n",
    "# activation_min/max: can be used to view the activation contrast in more detail, by default matplot sets min and max to the actual min and max values of the output\n",
    "# plt_num: used to plot out multiple different weight feature map sets on the same block, just extend the plt number for each new feature map entry\n",
    "\n",
    "def outputFeatureMap(image_input, tf_activation, activation_min=-1, activation_max=-1 ,plt_num=1):\n",
    "    # Here make sure to preprocess your image_input in a way your network expects\n",
    "    # with size, normalization, ect if needed\n",
    "    # image_input =\n",
    "    # Note: x should be the same name as your network's tensorflow data placeholder variable\n",
    "    # If you get an error tf_activation is not defined it may be having trouble accessing the variable from inside a function\n",
    "    activation = tf_activation.eval(session=sess,feed_dict={x : image_input})\n",
    "    featuremaps = activation.shape[3]\n",
    "    plt.figure(plt_num, figsize=(15,15))\n",
    "    for featuremap in range(featuremaps):\n",
    "        plt.subplot(6,8, featuremap+1) # sets the number of feature maps to show on each row and column\n",
    "        plt.title('FeatureMap ' + str(featuremap)) # displays the feature map number\n",
    "        if activation_min != -1 & activation_max != -1:\n",
    "            plt.imshow(activation[0,:,:, featuremap], interpolation=\"nearest\", vmin =activation_min, vmax=activation_max, cmap=\"gray\")\n",
    "        elif activation_max != -1:\n",
    "            plt.imshow(activation[0,:,:, featuremap], interpolation=\"nearest\", vmax=activation_max, cmap=\"gray\")\n",
    "        elif activation_min !=-1:\n",
    "            plt.imshow(activation[0,:,:, featuremap], interpolation=\"nearest\", vmin=activation_min, cmap=\"gray\")\n",
    "        else:\n",
    "            plt.imshow(activation[0,:,:, featuremap], interpolation=\"nearest\", cmap=\"gray\")"
   ]
  }
 ],
 "metadata": {
  "anaconda-cloud": {},
  "kernelspec": {
   "display_name": "Python 3",
   "language": "python",
   "name": "python3"
  },
  "language_info": {
   "codemirror_mode": {
    "name": "ipython",
    "version": 3
   },
   "file_extension": ".py",
   "mimetype": "text/x-python",
   "name": "python",
   "nbconvert_exporter": "python",
   "pygments_lexer": "ipython3",
   "version": "3.5.2"
  },
  "widgets": {
   "state": {},
   "version": "1.1.2"
  }
 },
 "nbformat": 4,
 "nbformat_minor": 1
}
